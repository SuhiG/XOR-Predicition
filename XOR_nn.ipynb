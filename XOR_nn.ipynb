{
  "nbformat": 4,
  "nbformat_minor": 0,
  "metadata": {
    "colab": {
      "name": "XOR nn.ipynb",
      "version": "0.3.2",
      "provenance": [],
      "include_colab_link": true
    },
    "kernelspec": {
      "name": "python3",
      "display_name": "Python 3"
    }
  },
  "cells": [
    {
      "cell_type": "markdown",
      "metadata": {
        "id": "view-in-github",
        "colab_type": "text"
      },
      "source": [
        "<a href=\"https://colab.research.google.com/github/SuhiG/XOR-Predicition/blob/master/XOR_nn.ipynb\" target=\"_parent\"><img src=\"https://colab.research.google.com/assets/colab-badge.svg\" alt=\"Open In Colab\"/></a>"
      ]
    },
    {
      "metadata": {
        "id": "chlOlzgXTXWQ",
        "colab_type": "code",
        "outputId": "4ef4cad2-0174-4fbb-8e83-bd522225afff",
        "colab": {
          "base_uri": "https://localhost:8080/",
          "height": 263
        }
      },
      "cell_type": "code",
      "source": [
        "# import matplotlib.pyplot as plt\n",
        "import tensorflow as tf\n",
        "import time\n",
        "import numpy as np\n",
        "\n",
        "X = tf.placeholder(tf.float32, shape=[4,2], name = 'X') #for input values\n",
        "Y = tf.placeholder(tf.float32, shape=[4,1], name = 'Y') #for output values\n",
        "\n",
        "W = tf.Variable(tf.truncated_normal([2,2]), name = \"W\") #weights for the hidden layer\n",
        "w = tf.Variable(tf.truncated_normal([2,1]), name = \"w\") #weights for the output layer\n",
        "\n",
        "c = tf.Variable(tf.zeros([4,2]), name = \"c\") #bias for the hidden layer\n",
        "b = tf.Variable(tf.zeros([4,1]), name = \"b\") #bias for the output layer\n",
        "\n",
        "# loss_value_matrix=tf.placeholder(tf.float32, shape=[], name = 'loss_value_matrix')\n",
        "                   \n",
        "with tf.name_scope(\"hidden_layer\") as scope:\n",
        "    h = tf.nn.sigmoid(tf.add(tf.matmul(X, W),c)) #Activation fuction for the hidden layer \n",
        "\n",
        "with tf.name_scope(\"output\") as scope:\n",
        "    y_estimated = tf.sigmoid(tf.add(tf.matmul(h,w),b)) #Activation function for the Output layer\n",
        "\n",
        "with tf.name_scope(\"loss\") as scope:\n",
        "    loss = tf.losses.mean_squared_error(y_estimated, Y) #Cost function for the network\n",
        "    \n",
        "with tf.name_scope(\"train\") as scope:\n",
        "    optimizer = tf.contrib.opt.ScipyOptimizerInterface(loss=loss,method=\"BFGS\") #optimizer\n",
        "#     loss_value_matrix.append(loss)\n",
        "    \n",
        "\n",
        "INPUT_XOR = [[0,0],[0,1],[1,0],[1,1]] #Inputs\n",
        "OUTPUT_XOR = [[0],[1],[1],[0]] # Correct values\n",
        "\n",
        "init = tf.global_variables_initializer()\n",
        "sess = tf.Session()\n",
        "\n",
        "sess.run(init)\n",
        "\n",
        "time_start = time.clock()\n",
        "# for epoch in range(100001):\n",
        "print(\"Minimization starts......................................................\")\n",
        "optimizer.minimize(sess,feed_dict={X: INPUT_XOR, Y: OUTPUT_XOR})\n",
        "# sess.run(loss_value_matrix)\n",
        "\n",
        "print(\"Minimization completed...................................................\")\n",
        "\n",
        "print('Final estimated Values: ')\n",
        "print(sess.run(y_estimated, feed_dict={X: INPUT_XOR, Y: OUTPUT_XOR}))\n",
        "\n",
        "print('Final Loss in detail: ', sess.run(loss, feed_dict={X: INPUT_XOR, Y: OUTPUT_XOR}))\n",
        "time_end = time.clock()\n",
        "print('Elapsed time ', time_end - time_start)\n",
        "# print(loss_value_matrix)\n",
        "\n",
        "\n",
        "# plt.plot(loss_value_matrix)\n",
        "# plt.show()"
      ],
      "execution_count": 59,
      "outputs": [
        {
          "output_type": "stream",
          "text": [
            "Minimization starts......................................................\n",
            "INFO:tensorflow:Optimization terminated with:\n",
            "  Message: Optimization terminated successfully.\n",
            "  Objective function value: 0.000006\n",
            "  Number of iterations: 17\n",
            "  Number of functions evaluations: 19\n",
            "Minimization completed...................................................\n",
            "Final estimated Values: \n",
            "[[0.00428263]\n",
            " [0.9998865 ]\n",
            " [0.9998951 ]\n",
            " [0.00202728]]\n",
            "Final Loss in detail:  5.618672e-06\n",
            "Elapsed time  12.555397999999968\n"
          ],
          "name": "stdout"
        }
      ]
    }
  ]
}
